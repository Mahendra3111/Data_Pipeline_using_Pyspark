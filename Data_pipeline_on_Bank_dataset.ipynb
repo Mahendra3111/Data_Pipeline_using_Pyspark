{
  "nbformat": 4,
  "nbformat_minor": 0,
  "metadata": {
    "colab": {
      "provenance": []
    },
    "kernelspec": {
      "name": "python3",
      "display_name": "Python 3"
    },
    "language_info": {
      "name": "python"
    }
  },
  "cells": [
    {
      "cell_type": "code",
      "execution_count": null,
      "metadata": {
        "id": "kzHsX531dEAj"
      },
      "outputs": [],
      "source": [
        "# Importing important libraries\n",
        "import pyspark\n",
        "import pandas as pd\n",
        "import numpy as np\n",
        "import matplotlib.pyplot as plt\n",
        "import seaborn as sns"
      ]
    },
    {
      "cell_type": "code",
      "source": [
        "from pyspark.ml import Pipeline\n",
        "from pyspark.ml.feature import StringIndexer, OneHotEncoder, VectorAssembler"
      ],
      "metadata": {
        "id": "JQAdCIogd2Ak"
      },
      "execution_count": null,
      "outputs": []
    },
    {
      "cell_type": "code",
      "source": [
        "from pyspark import SparkContext\n",
        "from pyspark.sql import SparkSession"
      ],
      "metadata": {
        "id": "fIt9k7m3e_iL"
      },
      "execution_count": null,
      "outputs": []
    },
    {
      "cell_type": "code",
      "source": [
        "# Creating Spark Session and Spark Variable\n",
        "\n",
        "sc = SparkContext()\n",
        "spark = SparkSession.builder.master('local[1]').appName('Bank').getOrCreate()\n"
      ],
      "metadata": {
        "id": "UrLnqHkCekk8"
      },
      "execution_count": null,
      "outputs": []
    },
    {
      "cell_type": "code",
      "source": [
        "# Importing the dataset\n",
        "df_bank = spark.read.option(\"inferSchema\",True).option(\"header\",True).csv(\"/content/bank_new.csv\")"
      ],
      "metadata": {
        "id": "_iMxIVKEeuY8"
      },
      "execution_count": null,
      "outputs": []
    },
    {
      "cell_type": "code",
      "source": [
        "df_bank.show()"
      ],
      "metadata": {
        "colab": {
          "base_uri": "https://localhost:8080/"
        },
        "id": "5yKu8dHAm6uF",
        "outputId": "b4cd8e9f-dbda-432a-d2f8-27df6171ebc9"
      },
      "execution_count": null,
      "outputs": [
        {
          "output_type": "stream",
          "name": "stdout",
          "text": [
            "+---+-----------+--------+---------+-------+-------+-------+----+-------+---+-----+--------+--------+-----+--------+--------+-------+\n",
            "|age|        job| marital|education|default|balance|housing|loan|contact|day|month|duration|campaign|pdays|previous|poutcome|deposit|\n",
            "+---+-----------+--------+---------+-------+-------+-------+----+-------+---+-----+--------+--------+-----+--------+--------+-------+\n",
            "| 59|     admin.| married|secondary|     no|   2343|    yes|  no|unknown|  5|  may|    1042|       1|   -1|       0| unknown|    yes|\n",
            "| 56|     admin.| married|secondary|     no|     45|     no|  no|unknown|  5|  may|    1467|       1|   -1|       0| unknown|    yes|\n",
            "| 41| technician| married|secondary|     no|   1270|    yes|  no|unknown|  5|  may|    1389|       1|   -1|       0| unknown|    yes|\n",
            "| 55|   services| married|secondary|     no|   2476|    yes|  no|unknown|  5|  may|     579|       1|   -1|       0| unknown|    yes|\n",
            "| 54|     admin.| married| tertiary|     no|    184|     no|  no|unknown|  5|  may|     673|       2|   -1|       0| unknown|    yes|\n",
            "| 42| management|  single| tertiary|     no|      0|    yes| yes|unknown|  5|  may|     562|       2|   -1|       0| unknown|    yes|\n",
            "| 56| management| married| tertiary|     no|    830|    yes| yes|unknown|  6|  may|    1201|       1|   -1|       0| unknown|    yes|\n",
            "| 60|    retired|divorced|secondary|     no|    545|    yes|  no|unknown|  6|  may|    1030|       1|   -1|       0| unknown|    yes|\n",
            "| 37| technician| married|secondary|     no|      1|    yes|  no|unknown|  6|  may|     608|       1|   -1|       0| unknown|    yes|\n",
            "| 28|   services|  single|secondary|     no|   5090|    yes|  no|unknown|  6|  may|    1297|       3|   -1|       0| unknown|    yes|\n",
            "| 38|     admin.|  single|secondary|     no|    100|    yes|  no|unknown|  7|  may|     786|       1|   -1|       0| unknown|    yes|\n",
            "| 30|blue-collar| married|secondary|     no|    309|    yes|  no|unknown|  7|  may|    1574|       2|   -1|       0| unknown|    yes|\n",
            "| 29| management| married| tertiary|     no|    199|    yes| yes|unknown|  7|  may|    1689|       4|   -1|       0| unknown|    yes|\n",
            "| 46|blue-collar|  single| tertiary|     no|    460|    yes|  no|unknown|  7|  may|    1102|       2|   -1|       0| unknown|    yes|\n",
            "| 31| technician|  single| tertiary|     no|    703|    yes|  no|unknown|  8|  may|     943|       2|   -1|       0| unknown|    yes|\n",
            "| 35| management|divorced| tertiary|     no|   3837|    yes|  no|unknown|  8|  may|    1084|       1|   -1|       0| unknown|    yes|\n",
            "| 32|blue-collar|  single|  primary|     no|    611|    yes|  no|unknown|  8|  may|     541|       3|   -1|       0| unknown|    yes|\n",
            "| 49|   services| married|secondary|     no|     -8|    yes|  no|unknown|  8|  may|    1119|       1|   -1|       0| unknown|    yes|\n",
            "| 41|     admin.| married|secondary|     no|     55|    yes|  no|unknown|  8|  may|    1120|       2|   -1|       0| unknown|    yes|\n",
            "| 49|     admin.|divorced|secondary|     no|    168|    yes| yes|unknown|  8|  may|     513|       1|   -1|       0| unknown|    yes|\n",
            "+---+-----------+--------+---------+-------+-------+-------+----+-------+---+-----+--------+--------+-----+--------+--------+-------+\n",
            "only showing top 20 rows\n",
            "\n"
          ]
        }
      ]
    },
    {
      "cell_type": "code",
      "source": [
        "# Printing the Schema\n",
        "df_bank.printSchema()"
      ],
      "metadata": {
        "colab": {
          "base_uri": "https://localhost:8080/"
        },
        "id": "bmO48fdPm_l5",
        "outputId": "45134271-c8d8-4734-fcf6-e283400bf84d"
      },
      "execution_count": null,
      "outputs": [
        {
          "output_type": "stream",
          "name": "stdout",
          "text": [
            "root\n",
            " |-- age: integer (nullable = true)\n",
            " |-- job: string (nullable = true)\n",
            " |-- marital: string (nullable = true)\n",
            " |-- education: string (nullable = true)\n",
            " |-- default: string (nullable = true)\n",
            " |-- balance: integer (nullable = true)\n",
            " |-- housing: string (nullable = true)\n",
            " |-- loan: string (nullable = true)\n",
            " |-- contact: string (nullable = true)\n",
            " |-- day: integer (nullable = true)\n",
            " |-- month: string (nullable = true)\n",
            " |-- duration: integer (nullable = true)\n",
            " |-- campaign: integer (nullable = true)\n",
            " |-- pdays: integer (nullable = true)\n",
            " |-- previous: integer (nullable = true)\n",
            " |-- poutcome: string (nullable = true)\n",
            " |-- deposit: string (nullable = true)\n",
            "\n"
          ]
        }
      ]
    },
    {
      "cell_type": "code",
      "source": [
        "# No. of Instances in each class label - Yes and No.\n",
        "\n",
        "df_bank.groupby('deposit').count().show()"
      ],
      "metadata": {
        "colab": {
          "base_uri": "https://localhost:8080/"
        },
        "id": "j0YkOVPuCG0g",
        "outputId": "9b5a36e2-817e-4e76-8338-c42393ca1b74"
      },
      "execution_count": null,
      "outputs": [
        {
          "output_type": "stream",
          "name": "stdout",
          "text": [
            "+-------+-----+\n",
            "|deposit|count|\n",
            "+-------+-----+\n",
            "|     no| 5873|\n",
            "|    yes| 5289|\n",
            "+-------+-----+\n",
            "\n"
          ]
        }
      ]
    },
    {
      "cell_type": "code",
      "source": [
        "# Variables with numeric values\n",
        "\n",
        "numeric_features = [t[0] for t in df_bank.dtypes if t[1] == 'int']\n",
        "df_bank.select(numeric_features).show(5)"
      ],
      "metadata": {
        "colab": {
          "base_uri": "https://localhost:8080/"
        },
        "id": "CZcb17k0CWpx",
        "outputId": "8d82d6b7-13dc-4e6e-f1d8-ea383dd8e572"
      },
      "execution_count": null,
      "outputs": [
        {
          "output_type": "stream",
          "name": "stdout",
          "text": [
            "+---+-------+---+--------+--------+-----+--------+\n",
            "|age|balance|day|duration|campaign|pdays|previous|\n",
            "+---+-------+---+--------+--------+-----+--------+\n",
            "| 59|   2343|  5|    1042|       1|   -1|       0|\n",
            "| 56|     45|  5|    1467|       1|   -1|       0|\n",
            "| 41|   1270|  5|    1389|       1|   -1|       0|\n",
            "| 55|   2476|  5|     579|       1|   -1|       0|\n",
            "| 54|    184|  5|     673|       2|   -1|       0|\n",
            "+---+-------+---+--------+--------+-----+--------+\n",
            "only showing top 5 rows\n",
            "\n"
          ]
        }
      ]
    },
    {
      "cell_type": "markdown",
      "source": [
        "Note : we can also convert the spark dataframe to pandas dataframe using toPandas(). we can use Pandas dataframe to have a better tabular view of the data."
      ],
      "metadata": {
        "id": "88Zlbma-DyLG"
      }
    },
    {
      "cell_type": "markdown",
      "source": [
        "// Code for it :- df.select(numeric_features).toPandas().head(5)"
      ],
      "metadata": {
        "id": "XzQ6-tssEGO8"
      }
    },
    {
      "cell_type": "code",
      "source": [
        "# Convert Categorical variables to binary representation by one-hot encoding\n",
        "from pyspark.ml.feature import OneHotEncoder"
      ],
      "metadata": {
        "id": "5U-4PZiuGghV"
      },
      "execution_count": null,
      "outputs": []
    },
    {
      "cell_type": "code",
      "source": [
        "# list of Categorical variables in the dataframe\n",
        "categorical_vars = ['job','marital','education','default','housing','loan','contact','month','poutcome']\n",
        "stages = []\n",
        "\n",
        "# String indexing and One-Hot Encoding of Categorical Variables\n",
        "for categorical_var in categorical_vars:\n",
        "  stringIndexer = StringIndexer(inputCol= categorical_var, outputCol= categorical_var + 'Index')\n",
        "  encoder = OneHotEncoder(inputCols= [stringIndexer.getOutputCol()],\n",
        "                                   outputCols=[ categorical_var + 'class_vec'])\n",
        "  stages += [stringIndexer, encoder]\n",
        "\n",
        "print('StringIndexer and encoder for categorical variables added to pipeline stages')\n",
        "\n",
        "\n",
        "# String encoding of target variable\n",
        "\n",
        "label_string_indexer = StringIndexer(inputCol='deposit', outputCol='label')\n",
        "stages += [label_string_indexer]\n",
        "print(\"StringIndexer target variable added to pipeline stages\")"
      ],
      "metadata": {
        "colab": {
          "base_uri": "https://localhost:8080/"
        },
        "id": "vrBO3QCIC0hU",
        "outputId": "9efd3f9d-77e0-4f9e-bea6-1a58b3c680e5"
      },
      "execution_count": null,
      "outputs": [
        {
          "output_type": "stream",
          "name": "stdout",
          "text": [
            "StringIndexer and encoder for categorical variables added to pipeline stages\n",
            "StringIndexer target variable added to pipeline stages\n"
          ]
        }
      ]
    },
    {
      "cell_type": "code",
      "source": [
        "# Combine all independent variables into single vector column (features)\n",
        "\n",
        "from pyspark.ml.feature import VectorAssembler\n",
        "\n",
        "# List of numeric variables\n",
        "numeric_vars = ['age','balance','day','duration','campaign','pdays','previous']\n",
        "\n",
        "# Categorical variables + numeric variables = Features\n",
        "assembler_input = [c + \"class_vec\" for c in categorical_vars] + numeric_vars\n",
        "assembler = VectorAssembler(inputCols = assembler_input, outputCol = 'features')\n",
        "stages += [assembler]\n",
        "print(\"Vector Assembler added to pipeline stages\")\n"
      ],
      "metadata": {
        "colab": {
          "base_uri": "https://localhost:8080/"
        },
        "id": "5W--ylfgHCqZ",
        "outputId": "add4783b-ee17-47ed-8fe8-ab92cd89b21f"
      },
      "execution_count": null,
      "outputs": [
        {
          "output_type": "stream",
          "name": "stdout",
          "text": [
            "Vector Assembler added to pipeline stages\n"
          ]
        }
      ]
    },
    {
      "cell_type": "markdown",
      "source": [
        "Once we have added all the stages of the pipeline, it is time to create the pipeline. Here, we create the pipeline with these stages and then fitt the pipeline to dataframe and transform it. We will select 'label' and 'features' as the columns for the dataframe."
      ],
      "metadata": {
        "id": "xRZatckGJF9v"
      }
    },
    {
      "cell_type": "code",
      "source": [
        "# Creating a pipeline with stages\n",
        "\n",
        "from pyspark.ml import Pipeline\n",
        "pipeline = Pipeline(stages = stages)\n",
        "\n",
        "# fit the pipeline to the dataframe\n",
        "pipelineModel = pipeline.fit(df_bank)\n",
        "df_bank = pipelineModel.transform(df_bank)\n",
        "\n",
        "# DataFrame with only label and features as columns\n",
        "df_bank = df_bank.select('label','features')\n",
        "\n",
        "# Schema of the Dataframe\n",
        "df_bank.printSchema()"
      ],
      "metadata": {
        "colab": {
          "base_uri": "https://localhost:8080/"
        },
        "id": "NYkJ5dnDJBgQ",
        "outputId": "e9792f2e-9963-49fe-bf4d-56e4b2aedec7"
      },
      "execution_count": null,
      "outputs": [
        {
          "output_type": "stream",
          "name": "stdout",
          "text": [
            "root\n",
            " |-- label: double (nullable = false)\n",
            " |-- features: vector (nullable = true)\n",
            "\n"
          ]
        }
      ]
    },
    {
      "cell_type": "markdown",
      "source": [
        "Now, the data is ready for the model. Let's split it into training and test set for training the model and them testing the model on unseen data."
      ],
      "metadata": {
        "id": "39CNjVa4dL3c"
      }
    },
    {
      "cell_type": "code",
      "source": [
        "# Splitting the data into train and test set\n",
        "\n",
        "train, test = df_bank.randomSplit([0.8,0.2], seed =1)\n",
        "\n",
        "# No. of training and test examples\n",
        "\n",
        "print(\"Training set Examples: \" + str(train.count()))\n",
        "print(\"Test Set examples: \"+ str(test.count()))"
      ],
      "metadata": {
        "colab": {
          "base_uri": "https://localhost:8080/"
        },
        "id": "vr7PxS3zUkCW",
        "outputId": "9ed74073-0f8b-4158-84f7-aaa4057cf8a9"
      },
      "execution_count": null,
      "outputs": [
        {
          "output_type": "stream",
          "name": "stdout",
          "text": [
            "Training set Examples: 8948\n",
            "Test Set examples: 2214\n"
          ]
        }
      ]
    },
    {
      "cell_type": "markdown",
      "source": [
        "Now it’s time to create a binary classifier and we’ll choose logistic regression model for classification. First, we’ll initialize the model and then fit it to the training data."
      ],
      "metadata": {
        "id": "0XlHFxyReCEM"
      }
    },
    {
      "cell_type": "code",
      "source": [
        "from pyspark.ml.classification import LogisticRegression\n",
        "\n",
        "# Initalize logistic regression model\n",
        "log_reg = LogisticRegression(featuresCol='features', labelCol='label', maxIter=10)\n",
        "\n",
        "# fit the model to the training data\n",
        "model = log_reg.fit(train)"
      ],
      "metadata": {
        "id": "uz00DQKPd5-u"
      },
      "execution_count": null,
      "outputs": []
    },
    {
      "cell_type": "markdown",
      "source": [
        "Once the model is created and fitted on the training set, let us plot the ROC curve for this binary classifier by plotting the true positive rate against the false positive rate. We are doing this by converting the it to pandas and then plotting."
      ],
      "metadata": {
        "id": "oShHVSE0erCX"
      }
    },
    {
      "cell_type": "code",
      "source": [
        "# Plot ROC curve\n",
        "train_summary  = model.summary\n",
        "roc = train_summary.roc.toPandas()\n",
        "plt.plot(roc['FPR'], roc['TPR'])\n",
        "plt.ylabel('False Positive Rate')\n",
        "plt.xlabel('True Positive Rate')\n",
        "plt.title('Training set ROC Curve')\n",
        "plt.show()"
      ],
      "metadata": {
        "colab": {
          "base_uri": "https://localhost:8080/",
          "height": 472
        },
        "id": "oLcf-Dxmejwl",
        "outputId": "56ea300e-4687-4b49-f817-4bb495b23174"
      },
      "execution_count": null,
      "outputs": [
        {
          "output_type": "display_data",
          "data": {
            "text/plain": [
              "<Figure size 640x480 with 1 Axes>"
            ],
            "image/png": "[encoded data removed]"
          },
          "metadata": {}
        }
      ]
    },
    {
      "cell_type": "markdown",
      "source": [
        "Now we will evaluate the performance of the model on the training data using two performance metrics namely accuracy and area under ROC curve."
      ],
      "metadata": {
        "id": "9W3tUdbKfmZO"
      }
    },
    {
      "cell_type": "code",
      "source": [
        "# Evaluation on training set\n",
        "train_accuracy = train_summary.accuracy\n",
        "train_areaUnderROC = train_summary.areaUnderROC\n",
        "print(\"Training Accuracy :  \", train_accuracy)\n",
        "print(\"Training Area Under ROC :  \",train_areaUnderROC)"
      ],
      "metadata": {
        "colab": {
          "base_uri": "https://localhost:8080/"
        },
        "id": "6IB8tKaFfi6M",
        "outputId": "9178c09d-07e7-4644-e40d-0cff92a4d9d3"
      },
      "execution_count": null,
      "outputs": [
        {
          "output_type": "stream",
          "name": "stdout",
          "text": [
            "Training Accuracy :   0.8264416629414394\n",
            "Training Area Under ROC :   0.9027514887862209\n"
          ]
        }
      ]
    },
    {
      "cell_type": "code",
      "source": [
        "# Make prediction on test set\n",
        "predictions = model.transform(test)\n",
        "predictions.select('label','prediction').show(10)"
      ],
      "metadata": {
        "colab": {
          "base_uri": "https://localhost:8080/"
        },
        "id": "E4OZoFPUgK98",
        "outputId": "d8d71114-ddf0-42cf-c2d5-7bf6de6b4a0e"
      },
      "execution_count": null,
      "outputs": [
        {
          "output_type": "stream",
          "name": "stdout",
          "text": [
            "+-----+----------+\n",
            "|label|prediction|\n",
            "+-----+----------+\n",
            "|  0.0|       0.0|\n",
            "|  0.0|       0.0|\n",
            "|  0.0|       0.0|\n",
            "|  0.0|       0.0|\n",
            "|  0.0|       0.0|\n",
            "|  0.0|       0.0|\n",
            "|  0.0|       0.0|\n",
            "|  0.0|       1.0|\n",
            "|  0.0|       0.0|\n",
            "|  0.0|       0.0|\n",
            "+-----+----------+\n",
            "only showing top 10 rows\n",
            "\n"
          ]
        }
      ]
    },
    {
      "cell_type": "code",
      "source": [
        "from pyspark.ml.evaluation import BinaryClassificationEvaluator\n",
        "\n",
        "# Evaluation of model on test set\n",
        "evaluator = BinaryClassificationEvaluator()\n",
        "test_areaUnderROC = evaluator.evaluate(predictions)\n",
        "test_accuracy = model.evaluate(test).accuracy\n",
        "print('Test accuracy : ',test_accuracy)\n",
        "print('Test Area Under ROC : ', test_areaUnderROC)"
      ],
      "metadata": {
        "colab": {
          "base_uri": "https://localhost:8080/"
        },
        "id": "mSVy8LfMga4F",
        "outputId": "99f9cc2c-5503-48ea-d277-92bb400d644f"
      },
      "execution_count": null,
      "outputs": [
        {
          "output_type": "stream",
          "name": "stdout",
          "text": [
            "Test accuracy :  0.8292682926829268\n",
            "Test Area Under ROC :  0.907886703615904\n"
          ]
        }
      ]
    },
    {
      "cell_type": "markdown",
      "source": [
        "**The accuracy of the model when tested on previously unseen data turns out to be around 82.4% and the area under ROC curve is 0.9047. We see that there is not much difference between the performance of the model on training and testing data.**"
      ],
      "metadata": {
        "id": "Xx37iuZjhMBM"
      }
    },
    {
      "cell_type": "markdown",
      "source": [
        "**Hyper-parameter tuning**"
      ],
      "metadata": {
        "id": "d0_V-CfWh8Jc"
      }
    },
    {
      "cell_type": "markdown",
      "source": [
        "While building the logistic regression model, we assigned the default hyperparameters for the model. Tuning these to find the optimal hyperparameters can greatly improve the model performance. To do that, we can perform grid search using ParamGridBuilder and CrossValidator which is equivalent to Sklearn's GridSearchCV."
      ],
      "metadata": {
        "id": "mgfv08EfiMeK"
      }
    },
    {
      "cell_type": "code",
      "source": [
        "# Hyperparameter tuning\n",
        "\n",
        "from  pyspark.ml.tuning import ParamGridBuilder, CrossValidator\n",
        "\n",
        "# Create ParamGrid for Cross Validation\n",
        "paramGrid = (ParamGridBuilder()\n",
        "             .addGrid(log_reg.regParam, [0.01, 0.5, 0.1])\n",
        "             .addGrid(log_reg.elasticNetParam, [0.0, 0.5, 1.0])\n",
        "             .addGrid(log_reg.maxIter, [2, 5, 10])\n",
        "             .build())\n",
        "\n",
        "cv = CrossValidator(estimator = log_reg, estimatorParamMaps = paramGrid,\n",
        "                  evaluator = evaluator, numFolds=5)\n",
        "\n",
        "cv_model = cv.fit(train)\n",
        "predictions = cv_model.bestModel.transform(test)\n",
        "print('Test Area Under ROC after parameter tuning ',evaluator.evaluate(predictions))"
      ],
      "metadata": {
        "colab": {
          "base_uri": "https://localhost:8080/"
        },
        "id": "2BHxe__shEL0",
        "outputId": "b37af673-ec1b-46ad-d333-7735705f41f0"
      },
      "execution_count": null,
      "outputs": [
        {
          "output_type": "stream",
          "name": "stdout",
          "text": [
            "Test Area Under ROC after parameter tuning  0.908710049836276\n"
          ]
        }
      ]
    },
    {
      "cell_type": "markdown",
      "source": [
        "This is the area under ROC curve of the best possible classification model created from various combinations of the specified hyperparameter values."
      ],
      "metadata": {
        "id": "9IcD1raFlYRX"
      }
    }
  ]
}